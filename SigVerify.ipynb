{
  "cells": [
    {
      "cell_type": "code",
      "execution_count": 1,
      "metadata": {
        "colab": {
          "base_uri": "https://localhost:8080/"
        },
        "id": "FUccJYPCIek1",
        "outputId": "6f36d468-d16a-4706-d3b4-2990b0a79be2"
      },
      "outputs": [
        {
          "output_type": "stream",
          "name": "stdout",
          "text": [
            "Warning: Looks like you're using an outdated `kagglehub` version (installed: 0.3.7), please consider upgrading to the latest version (0.3.8).\n",
            "Downloading from https://www.kaggle.com/api/v1/datasets/download/ishanikathuria/handwritten-signature-datasets?dataset_version_number=3...\n"
          ]
        },
        {
          "output_type": "stream",
          "name": "stderr",
          "text": [
            "100%|██████████| 290M/290M [00:02<00:00, 123MB/s]"
          ]
        },
        {
          "output_type": "stream",
          "name": "stdout",
          "text": [
            "Extracting files...\n"
          ]
        },
        {
          "output_type": "stream",
          "name": "stderr",
          "text": [
            "\n"
          ]
        },
        {
          "output_type": "stream",
          "name": "stdout",
          "text": [
            "Path to dataset files: /root/.cache/kagglehub/datasets/ishanikathuria/handwritten-signature-datasets/versions/3\n"
          ]
        }
      ],
      "source": [
        "import kagglehub\n",
        "\n",
        "path = kagglehub.dataset_download(\"ishanikathuria/handwritten-signature-datasets\")\n",
        "\n",
        "print(\"Path to dataset files:\", path)"
      ]
    },
    {
      "cell_type": "code",
      "execution_count": 2,
      "metadata": {
        "execution": {
          "iopub.execute_input": "2024-12-12T22:57:34.794761Z",
          "iopub.status.busy": "2024-12-12T22:57:34.794155Z",
          "iopub.status.idle": "2024-12-12T22:57:48.498088Z",
          "shell.execute_reply": "2024-12-12T22:57:48.497506Z",
          "shell.execute_reply.started": "2024-12-12T22:57:34.794727Z"
        },
        "id": "xfB-u3Sz2Aff",
        "trusted": true
      },
      "outputs": [],
      "source": [
        "import os\n",
        "import cv2\n",
        "import numpy as np\n",
        "import tensorflow as tf\n",
        "import matplotlib.pyplot as plt\n",
        "import tensorflow.keras.backend as K\n",
        "from tensorflow.keras.models import Model\n",
        "from sklearn.model_selection import train_test_split\n",
        "from tensorflow.keras.applications import VGG16\n",
        "from tensorflow.keras.layers import Dense, GlobalAveragePooling2D, Input, Lambda\n",
        "from skimage import morphology"
      ]
    },
    {
      "cell_type": "code",
      "source": [
        "try:\n",
        "    tpu = tf.distribute.cluster_resolver.TPUClusterResolver.connect()\n",
        "    strategy = tf.distribute.TPUStrategy(tpu)\n",
        "except ValueError:\n",
        "    strategy = tf.distribute.get_strategy()\n",
        "\n",
        "print(\"Number of accelerators: \", strategy.num_replicas_in_sync)"
      ],
      "metadata": {
        "id": "yeD7SwovFQtw",
        "colab": {
          "base_uri": "https://localhost:8080/"
        },
        "outputId": "8b22e351-c5af-47ec-de60-1101122907d0"
      },
      "execution_count": 3,
      "outputs": [
        {
          "output_type": "stream",
          "name": "stdout",
          "text": [
            "Number of accelerators:  8\n"
          ]
        }
      ]
    },
    {
      "cell_type": "code",
      "execution_count": 4,
      "metadata": {
        "execution": {
          "iopub.execute_input": "2024-12-12T22:54:45.295136Z",
          "iopub.status.busy": "2024-12-12T22:54:45.294408Z",
          "iopub.status.idle": "2024-12-12T22:54:45.299505Z",
          "shell.execute_reply": "2024-12-12T22:54:45.298619Z",
          "shell.execute_reply.started": "2024-12-12T22:54:45.295101Z"
        },
        "id": "oS8k3l2e_2z6",
        "trusted": true
      },
      "outputs": [],
      "source": [
        "bengali_directory = os.path.join(path, 'BHSig260-Bengali/BHSig260-Bengali')\n",
        "hindi_directory = os.path.join(path, 'BHSig260-Hindi/BHSig260-Hindi')\n",
        "cedar_directory = os.path.join(path, 'CEDAR/CEDAR')"
      ]
    },
    {
      "cell_type": "code",
      "source": [
        "def deskew(image):\n",
        "    \"\"\"Correct image skew using minimum area rectangle\"\"\"\n",
        "    coords = np.column_stack(np.where(image > 0))\n",
        "    if len(coords) < 5:  # Insufficient points for rotation calculation\n",
        "        return image\n",
        "\n",
        "    rect = cv2.minAreaRect(coords)\n",
        "    angle = rect[-1]\n",
        "\n",
        "    # Adjust angle convention\n",
        "    angle = -angle if angle < -45 else -(90 + angle)\n",
        "\n",
        "    # Rotate image\n",
        "    h, w = image.shape[:2]\n",
        "    center = (w//2, h//2)\n",
        "    M = cv2.getRotationMatrix2D(center, angle, 1.0)\n",
        "    return cv2.warpAffine(image, M, (w, h),\n",
        "                        flags=cv2.INTER_LINEAR,\n",
        "                        borderMode=cv2.BORDER_CONSTANT,\n",
        "                        borderValue=0)"
      ],
      "metadata": {
        "id": "MPCdL3Iwc34o"
      },
      "execution_count": 5,
      "outputs": []
    },
    {
      "cell_type": "code",
      "execution_count": 6,
      "metadata": {
        "execution": {
          "iopub.execute_input": "2024-12-12T22:52:52.742932Z",
          "iopub.status.busy": "2024-12-12T22:52:52.742208Z",
          "iopub.status.idle": "2024-12-12T22:52:52.748125Z",
          "shell.execute_reply": "2024-12-12T22:52:52.747210Z",
          "shell.execute_reply.started": "2024-12-12T22:52:52.742899Z"
        },
        "id": "7Y8q3JcoIZnT",
        "trusted": true
      },
      "outputs": [],
      "source": [
        "def preprocess_image(image_path, target_size=(224, 224)):\n",
        "    \"\"\"Process image into multi-channel CNN input with feature-enhanced channels\"\"\"\n",
        "    # Read and convert to grayscale\n",
        "    img = cv2.imread(image_path)\n",
        "    if img is None:\n",
        "        raise ValueError(f\"Image not found at {image_path}\")\n",
        "    gray = cv2.cvtColor(img, cv2.COLOR_BGR2GRAY)\n",
        "\n",
        "    # Resize first to target dimensions\n",
        "    resized = cv2.resize(gray, target_size)\n",
        "\n",
        "    # Noise reduction (Median Filter)\n",
        "    denoised = cv2.medianBlur(resized, 3)\n",
        "\n",
        "    # Contrast Limited Adaptive Histogram Equalization (CLAHE)\n",
        "    clahe = cv2.createCLAHE(clipLimit=3.0, tileGridSize=(8, 8))\n",
        "    contrast_enhanced = clahe.apply(denoised)\n",
        "\n",
        "    # Binarization with Otsu's thresholding\n",
        "    _, binary = cv2.threshold(contrast_enhanced, 0, 255,\n",
        "                            cv2.THRESH_BINARY_INV + cv2.THRESH_OTSU)\n",
        "\n",
        "    # Deskew using binary image\n",
        "    deskewed = deskew(binary)\n",
        "\n",
        "    # Morphological processing\n",
        "    kernel = cv2.getStructuringElement(cv2.MORPH_ELLIPSE, (3,3))\n",
        "    morph = cv2.morphologyEx(deskewed, cv2.MORPH_CLOSE, kernel)\n",
        "    morph = cv2.morphologyEx(morph, cv2.MORPH_OPEN, kernel)\n",
        "\n",
        "    # Skeletonization\n",
        "    skeleton = morphology.skeletonize(morph.astype(bool))\n",
        "    skeleton = skeleton.astype(np.uint8) * 255\n",
        "\n",
        "    # Edge detection (Canny)\n",
        "    edges = cv2.Canny(morph, 80, 160)\n",
        "\n",
        "    # Create multi-channel image\n",
        "    channels = [\n",
        "        morph,        # Channel 1: Cleaned binary\n",
        "        edges,        # Channel 2: Edge features\n",
        "        skeleton      # Channel 3: Structural skeleton\n",
        "    ]\n",
        "\n",
        "    # Normalize and combine channels\n",
        "    processed = np.stack([(c/255.0).astype(np.float32) for c in channels], axis=-1)\n",
        "\n",
        "    return processed"
      ]
    },
    {
      "cell_type": "code",
      "execution_count": 7,
      "metadata": {
        "execution": {
          "iopub.execute_input": "2024-12-12T22:52:53.670314Z",
          "iopub.status.busy": "2024-12-12T22:52:53.669619Z",
          "iopub.status.idle": "2024-12-12T22:52:53.681345Z",
          "shell.execute_reply": "2024-12-12T22:52:53.680553Z",
          "shell.execute_reply.started": "2024-12-12T22:52:53.670270Z"
        },
        "id": "Uq7FPWBTIZnU",
        "trusted": true
      },
      "outputs": [],
      "source": [
        "def load_dataset(dataset_path):\n",
        "    \"\"\"Load and prepare dataset for training with robust error handling\"\"\"\n",
        "    if not os.path.exists(dataset_path):\n",
        "        raise FileNotFoundError(f\"Dataset path not found: {dataset_path}\")\n",
        "\n",
        "    person_dirs = [d for d in os.listdir(dataset_path)\n",
        "                  if os.path.isdir(os.path.join(dataset_path, d))]\n",
        "\n",
        "    if not person_dirs:\n",
        "        raise ValueError(f\"No person directories found in {dataset_path}\")\n",
        "\n",
        "    person_dirs = sorted(person_dirs)\n",
        "\n",
        "    pairs = []\n",
        "    labels = []\n",
        "\n",
        "    for person_dir in person_dirs:\n",
        "        full_path = os.path.join(dataset_path, person_dir)\n",
        "\n",
        "        image_files = os.listdir(full_path)\n",
        "        genuine_files = [f for f in image_files if 'G' in f or 'original' in f]\n",
        "        forged_files = [f for f in image_files if 'F' in f or 'forgeries' in f]\n",
        "\n",
        "        if not genuine_files or not forged_files:\n",
        "            print(f\"Warning: Missing genuine or forged files for {person_dir}\")\n",
        "            continue\n",
        "        for i in range(len(genuine_files)):\n",
        "            for j in range(i + 1, len(genuine_files)):\n",
        "                try:\n",
        "                    anchor = preprocess_image(os.path.join(full_path, genuine_files[i]))\n",
        "                    positive = preprocess_image(os.path.join(full_path, genuine_files[j]))\n",
        "                    pairs.append([anchor, positive])\n",
        "                    labels.append(1)\n",
        "                except Exception as e:\n",
        "                    print(f\"Error processing positive pair: {e}\")\n",
        "                    continue\n",
        "\n",
        "        for i in range(min(len(genuine_files), len(forged_files))):\n",
        "            try:\n",
        "                anchor = preprocess_image(os.path.join(full_path, genuine_files[i]))\n",
        "                negative = preprocess_image(os.path.join(full_path, forged_files[i]))\n",
        "                pairs.append([anchor, negative])\n",
        "                labels.append(0)\n",
        "            except Exception as e:\n",
        "                print(f\"Error processing negative pair: {e}\")\n",
        "                continue\n",
        "\n",
        "    if not pairs:\n",
        "        raise ValueError(f\"No valid pairs could be created from {dataset_path}\")\n",
        "\n",
        "    pairs = np.array(pairs)\n",
        "    labels = np.array(labels)\n",
        "\n",
        "    train_pairs, test_pairs, train_labels, test_labels = train_test_split(\n",
        "        pairs, labels, test_size=0.2, random_state=42\n",
        "    )\n",
        "\n",
        "    train_pairs, val_pairs, train_labels, val_labels = train_test_split(\n",
        "        train_pairs, train_labels, test_size=0.2, random_state=42\n",
        "    )\n",
        "\n",
        "    return (train_pairs, train_labels), (val_pairs, val_labels), (test_pairs, test_labels)"
      ]
    },
    {
      "cell_type": "code",
      "execution_count": 8,
      "metadata": {
        "execution": {
          "iopub.execute_input": "2024-12-12T22:52:55.860634Z",
          "iopub.status.busy": "2024-12-12T22:52:55.860289Z",
          "iopub.status.idle": "2024-12-12T22:52:55.865475Z",
          "shell.execute_reply": "2024-12-12T22:52:55.864594Z",
          "shell.execute_reply.started": "2024-12-12T22:52:55.860605Z"
        },
        "id": "cNebnPKZIZnU",
        "trusted": true
      },
      "outputs": [],
      "source": [
        "def euclidean_distance(vectors):\n",
        "    x, y = vectors\n",
        "    sum_square = K.sum(K.square(x - y), axis=1, keepdims=True)\n",
        "    return K.sqrt(K.maximum(sum_square, K.epsilon()))"
      ]
    },
    {
      "cell_type": "code",
      "execution_count": 9,
      "metadata": {
        "execution": {
          "iopub.execute_input": "2024-12-12T22:52:56.532989Z",
          "iopub.status.busy": "2024-12-12T22:52:56.532698Z",
          "iopub.status.idle": "2024-12-12T22:52:56.537533Z",
          "shell.execute_reply": "2024-12-12T22:52:56.536756Z",
          "shell.execute_reply.started": "2024-12-12T22:52:56.532962Z"
        },
        "id": "AGPyvbv6IZnU",
        "trusted": true
      },
      "outputs": [],
      "source": [
        "def contrastive_loss(y_true, y_pred, margin=1.0):\n",
        "    y_true = tf.cast(y_true, tf.float32)\n",
        "    y_pred = tf.cast(y_pred, tf.float32)\n",
        "    square_pred = K.square(y_pred)\n",
        "    margin_square = K.square(K.maximum(margin - y_pred, 0))\n",
        "    return K.mean((1 - y_true) * square_pred + y_true * margin_square)"
      ]
    },
    {
      "cell_type": "code",
      "execution_count": 10,
      "metadata": {
        "execution": {
          "iopub.execute_input": "2024-12-12T22:52:57.308693Z",
          "iopub.status.busy": "2024-12-12T22:52:57.307886Z",
          "iopub.status.idle": "2024-12-12T22:53:01.384618Z",
          "shell.execute_reply": "2024-12-12T22:53:01.383925Z",
          "shell.execute_reply.started": "2024-12-12T22:52:57.308660Z"
        },
        "id": "Z8W_lSbL2Afg",
        "trusted": true,
        "colab": {
          "base_uri": "https://localhost:8080/"
        },
        "outputId": "4d9cfaca-d302-43da-821b-ebe75a5492e3"
      },
      "outputs": [
        {
          "output_type": "stream",
          "name": "stdout",
          "text": [
            "Downloading data from https://storage.googleapis.com/tensorflow/keras-applications/vgg16/vgg16_weights_tf_dim_ordering_tf_kernels_notop.h5\n",
            "\u001b[1m58889256/58889256\u001b[0m \u001b[32m━━━━━━━━━━━━━━━━━━━━\u001b[0m\u001b[37m\u001b[0m \u001b[1m0s\u001b[0m 0us/step\n"
          ]
        }
      ],
      "source": [
        "with strategy.scope():\n",
        "    # Base VGG16 model\n",
        "    base_model = VGG16(weights='imagenet', include_top=False, input_shape=(224, 224, 3))\n",
        "    for layer in base_model.layers:\n",
        "        layer.trainable = False\n",
        "\n",
        "    # Feature extraction model\n",
        "    x = base_model.output\n",
        "    x = GlobalAveragePooling2D()(x)\n",
        "    x = Dense(512, activation='relu')(x)\n",
        "    embedding = Dense(128)(x)\n",
        "    embedding_model = Model(base_model.input, embedding)\n",
        "\n",
        "    # Siamese network\n",
        "    input_1 = Input(shape=(224, 224, 3))\n",
        "    input_2 = Input(shape=(224, 224, 3))\n",
        "\n",
        "    embedding_1 = embedding_model(input_1)\n",
        "    embedding_2 = embedding_model(input_2)\n",
        "\n",
        "    distance = Lambda(euclidean_distance)([embedding_1, embedding_2])\n",
        "    predictions = Dense(1, activation='sigmoid')(distance)\n",
        "\n",
        "    siamese_model = Model(inputs=[input_1, input_2], outputs=predictions)\n",
        "\n",
        "    # Custom optimizer configuration for TPU\n",
        "    optimizer = tf.keras.optimizers.Adam(learning_rate=0.001)\n",
        "    siamese_model.compile(optimizer=optimizer, metrics=['accuracy'], loss=contrastive_loss)"
      ]
    },
    {
      "cell_type": "code",
      "execution_count": 11,
      "metadata": {
        "id": "f0j5uHXTtsi3"
      },
      "outputs": [],
      "source": [
        "callbacks = [\n",
        "    tf.keras.callbacks.EarlyStopping(\n",
        "        monitor='val_loss',\n",
        "        patience=5,\n",
        "        restore_best_weights=True\n",
        "    ),\n",
        "    tf.keras.callbacks.ReduceLROnPlateau(\n",
        "        monitor='val_loss',\n",
        "        factor=0.5,\n",
        "        patience=3,\n",
        "        min_lr=1e-6\n",
        "    )\n",
        "]"
      ]
    },
    {
      "cell_type": "code",
      "execution_count": 12,
      "metadata": {
        "id": "7IElrhC3IZnW",
        "trusted": true
      },
      "outputs": [],
      "source": [
        "(cedar_train_pairs, cedar_train_labels), (cedar_val_pairs, cedar_val_labels), (cedar_test_pairs, cedar_test_labels) = load_dataset(cedar_directory)"
      ]
    },
    {
      "cell_type": "code",
      "source": [
        "batch_size = 128 * strategy.num_replicas_in_sync\n",
        "batch_size"
      ],
      "metadata": {
        "id": "FevsSB83FeVs",
        "colab": {
          "base_uri": "https://localhost:8080/"
        },
        "outputId": "6dcd09fa-f19e-4181-cf23-6cadf1bf9e66"
      },
      "execution_count": 14,
      "outputs": [
        {
          "output_type": "execute_result",
          "data": {
            "text/plain": [
              "1024"
            ]
          },
          "metadata": {},
          "execution_count": 14
        }
      ]
    },
    {
      "cell_type": "code",
      "source": [
        "def create_tf_dataset(pairs, labels):\n",
        "    anchor_images = pairs[:, 0]\n",
        "    other_images = pairs[:, 1]\n",
        "    dataset = tf.data.Dataset.from_tensor_slices(((anchor_images, other_images), labels))\n",
        "    return dataset.shuffle(1024).batch(batch_size).prefetch(tf.data.AUTOTUNE)"
      ],
      "metadata": {
        "id": "CwrTPCAlFfsK"
      },
      "execution_count": 15,
      "outputs": []
    },
    {
      "cell_type": "code",
      "source": [
        "train_dataset = create_tf_dataset(cedar_train_pairs, cedar_train_labels)\n",
        "val_dataset = create_tf_dataset(cedar_val_pairs, cedar_val_labels)\n",
        "test_dataset = create_tf_dataset(cedar_test_pairs, cedar_test_labels)"
      ],
      "metadata": {
        "id": "U2yqyF44Fjf7"
      },
      "execution_count": 16,
      "outputs": []
    },
    {
      "cell_type": "code",
      "source": [
        "history = siamese_model.fit(\n",
        "    train_dataset,\n",
        "    epochs=50,\n",
        "    validation_data=val_dataset,\n",
        "    callbacks=callbacks\n",
        ")"
      ],
      "metadata": {
        "colab": {
          "base_uri": "https://localhost:8080/"
        },
        "id": "EOdgUKipwFTO",
        "outputId": "bcecd34e-e7b6-42cc-bc2d-06990e8ff0cb"
      },
      "execution_count": 17,
      "outputs": [
        {
          "output_type": "stream",
          "name": "stdout",
          "text": [
            "Epoch 1/50\n",
            "\u001b[1m11/11\u001b[0m \u001b[32m━━━━━━━━━━━━━━━━━━━━\u001b[0m\u001b[37m\u001b[0m \u001b[1m129s\u001b[0m 10s/step - accuracy: 0.9277 - loss: 1.8122 - val_accuracy: 0.9242 - val_loss: 1.3993 - learning_rate: 0.0010\n",
            "Epoch 2/50\n",
            "\u001b[1m11/11\u001b[0m \u001b[32m━━━━━━━━━━━━━━━━━━━━\u001b[0m\u001b[37m\u001b[0m \u001b[1m90s\u001b[0m 7s/step - accuracy: 0.9217 - loss: 1.3822 - val_accuracy: 0.9188 - val_loss: 1.0206 - learning_rate: 0.0010\n",
            "Epoch 3/50\n",
            "\u001b[1m11/11\u001b[0m \u001b[32m━━━━━━━━━━━━━━━━━━━━\u001b[0m\u001b[37m\u001b[0m \u001b[1m89s\u001b[0m 7s/step - accuracy: 0.9231 - loss: 0.9497 - val_accuracy: 0.9202 - val_loss: 0.8166 - learning_rate: 0.0010\n",
            "Epoch 4/50\n",
            "\u001b[1m11/11\u001b[0m \u001b[32m━━━━━━━━━━━━━━━━━━━━\u001b[0m\u001b[37m\u001b[0m \u001b[1m89s\u001b[0m 7s/step - accuracy: 0.9223 - loss: 0.7724 - val_accuracy: 0.9222 - val_loss: 0.7125 - learning_rate: 0.0010\n",
            "Epoch 5/50\n",
            "\u001b[1m11/11\u001b[0m \u001b[32m━━━━━━━━━━━━━━━━━━━━\u001b[0m\u001b[37m\u001b[0m \u001b[1m89s\u001b[0m 7s/step - accuracy: 0.9210 - loss: 0.7078 - val_accuracy: 0.9205 - val_loss: 0.6968 - learning_rate: 0.0010\n",
            "Epoch 6/50\n",
            "\u001b[1m11/11\u001b[0m \u001b[32m━━━━━━━━━━━━━━━━━━━━\u001b[0m\u001b[37m\u001b[0m \u001b[1m90s\u001b[0m 7s/step - accuracy: 0.9242 - loss: 0.6554 - val_accuracy: 0.9177 - val_loss: 0.6959 - learning_rate: 0.0010\n",
            "Epoch 7/50\n",
            "\u001b[1m11/11\u001b[0m \u001b[32m━━━━━━━━━━━━━━━━━━━━\u001b[0m\u001b[37m\u001b[0m \u001b[1m90s\u001b[0m 7s/step - accuracy: 0.9138 - loss: 0.7202 - val_accuracy: 0.9178 - val_loss: 0.6855 - learning_rate: 0.0010\n",
            "Epoch 8/50\n",
            "\u001b[1m11/11\u001b[0m \u001b[32m━━━━━━━━━━━━━━━━━━━━\u001b[0m\u001b[37m\u001b[0m \u001b[1m90s\u001b[0m 7s/step - accuracy: 0.9219 - loss: 0.6453 - val_accuracy: 0.9196 - val_loss: 0.6686 - learning_rate: 0.0010\n",
            "Epoch 9/50\n",
            "\u001b[1m11/11\u001b[0m \u001b[32m━━━━━━━━━━━━━━━━━━━━\u001b[0m\u001b[37m\u001b[0m \u001b[1m90s\u001b[0m 7s/step - accuracy: 0.9275 - loss: 0.5973 - val_accuracy: 0.9149 - val_loss: 0.7003 - learning_rate: 0.0010\n",
            "Epoch 10/50\n",
            "\u001b[1m11/11\u001b[0m \u001b[32m━━━━━━━━━━━━━━━━━━━━\u001b[0m\u001b[37m\u001b[0m \u001b[1m90s\u001b[0m 7s/step - accuracy: 0.9241 - loss: 0.6209 - val_accuracy: 0.9182 - val_loss: 0.6718 - learning_rate: 0.0010\n",
            "Epoch 11/50\n",
            "\u001b[1m11/11\u001b[0m \u001b[32m━━━━━━━━━━━━━━━━━━━━\u001b[0m\u001b[37m\u001b[0m \u001b[1m90s\u001b[0m 7s/step - accuracy: 0.9324 - loss: 0.5460 - val_accuracy: 0.9190 - val_loss: 0.6649 - learning_rate: 0.0010\n",
            "Epoch 12/50\n",
            "\u001b[1m11/11\u001b[0m \u001b[32m━━━━━━━━━━━━━━━━━━━━\u001b[0m\u001b[37m\u001b[0m \u001b[1m91s\u001b[0m 7s/step - accuracy: 0.9295 - loss: 0.5656 - val_accuracy: 0.9195 - val_loss: 0.6581 - learning_rate: 0.0010\n",
            "Epoch 13/50\n",
            "\u001b[1m11/11\u001b[0m \u001b[32m━━━━━━━━━━━━━━━━━━━━\u001b[0m\u001b[37m\u001b[0m \u001b[1m89s\u001b[0m 7s/step - accuracy: 0.9248 - loss: 0.6062 - val_accuracy: 0.9231 - val_loss: 0.6301 - learning_rate: 0.0010\n",
            "Epoch 14/50\n",
            "\u001b[1m11/11\u001b[0m \u001b[32m━━━━━━━━━━━━━━━━━━━━\u001b[0m\u001b[37m\u001b[0m \u001b[1m91s\u001b[0m 7s/step - accuracy: 0.9220 - loss: 0.6250 - val_accuracy: 0.9149 - val_loss: 0.6930 - learning_rate: 0.0010\n",
            "Epoch 15/50\n",
            "\u001b[1m11/11\u001b[0m \u001b[32m━━━━━━━━━━━━━━━━━━━━\u001b[0m\u001b[37m\u001b[0m \u001b[1m90s\u001b[0m 7s/step - accuracy: 0.9280 - loss: 0.5735 - val_accuracy: 0.9135 - val_loss: 0.6996 - learning_rate: 0.0010\n",
            "Epoch 16/50\n",
            "\u001b[1m11/11\u001b[0m \u001b[32m━━━━━━━━━━━━━━━━━━━━\u001b[0m\u001b[37m\u001b[0m \u001b[1m91s\u001b[0m 7s/step - accuracy: 0.9276 - loss: 0.5756 - val_accuracy: 0.9165 - val_loss: 0.6797 - learning_rate: 0.0010\n",
            "Epoch 17/50\n",
            "\u001b[1m11/11\u001b[0m \u001b[32m━━━━━━━━━━━━━━━━━━━━\u001b[0m\u001b[37m\u001b[0m \u001b[1m90s\u001b[0m 7s/step - accuracy: 0.9239 - loss: 0.6050 - val_accuracy: 0.9124 - val_loss: 0.7088 - learning_rate: 5.0000e-04\n",
            "Epoch 18/50\n",
            "\u001b[1m11/11\u001b[0m \u001b[32m━━━━━━━━━━━━━━━━━━━━\u001b[0m\u001b[37m\u001b[0m \u001b[1m90s\u001b[0m 7s/step - accuracy: 0.9286 - loss: 0.5711 - val_accuracy: 0.9219 - val_loss: 0.6337 - learning_rate: 5.0000e-04\n"
          ]
        }
      ]
    },
    {
      "cell_type": "code",
      "source": [
        "# Plot training history\n",
        "plt.figure(figsize=(14, 5))\n",
        "plt.subplot(1, 2, 1)\n",
        "plt.plot(history.history['loss'], label='Train Loss')\n",
        "plt.plot(history.history['val_loss'], label='Validation Loss')\n",
        "plt.title('Training and Validation Loss')\n",
        "plt.ylabel('Loss')\n",
        "plt.xlabel('Epoch')\n",
        "plt.legend()\n",
        "\n",
        "plt.subplot(1, 2, 2)\n",
        "plt.plot(history.history['accuracy'], label='Train Accuracy')\n",
        "plt.plot(history.history['val_accuracy'], label='Validation Accuracy')\n",
        "plt.title('Training and Validation Accuracy')\n",
        "plt.ylabel('Accuracy')\n",
        "plt.xlabel('Epoch')\n",
        "plt.legend()\n",
        "plt.tight_layout()\n",
        "plt.show()"
      ],
      "metadata": {
        "id": "3SO9X8EXwv6U",
        "colab": {
          "base_uri": "https://localhost:8080/",
          "height": 482
        },
        "outputId": "daa0817d-5895-4aa4-b54a-03d6aeff797b"
      },
      "execution_count": 18,
      "outputs": [
        {
          "output_type": "display_data",
          "data": {
            "text/plain": [
              "<Figure size 1400x500 with 2 Axes>"
            ],
            "image/png": "[encoded data removed]"
          },
          "metadata": {}
        }
      ]
    },
    {
      "cell_type": "code",
      "source": [
        "cedar_test_loss, cedar_test_acc = siamese_model.evaluate(test_dataset)\n",
        "print(f\"Test Loss: {cedar_test_loss:.4f}\")\n",
        "print(f\"Test Accuracy: {cedar_test_acc:.4f}\")"
      ],
      "metadata": {
        "id": "b5bP1kidwGqB",
        "colab": {
          "base_uri": "https://localhost:8080/"
        },
        "outputId": "a5698d8a-f19b-4be3-d8ac-479f2c906141"
      },
      "execution_count": 19,
      "outputs": [
        {
          "output_type": "stream",
          "name": "stdout",
          "text": [
            "\u001b[1m4/4\u001b[0m \u001b[32m━━━━━━━━━━━━━━━━━━━━\u001b[0m\u001b[37m\u001b[0m \u001b[1m27s\u001b[0m 6s/step - accuracy: 0.9085 - loss: 0.7434\n",
            "Test Loss: 0.7407\n",
            "Test Accuracy: 0.9088\n"
          ]
        }
      ]
    },
    {
      "cell_type": "code",
      "source": [
        "(hindi_train_pairs, hindi_train_labels), (hindi_val_pairs, hindi_val_labels), (hindi_test_pairs, hindi_test_labels) = load_dataset(hindi_directory)"
      ],
      "metadata": {
        "id": "vblx65yJPvHA"
      },
      "execution_count": 20,
      "outputs": []
    },
    {
      "cell_type": "code",
      "source": [
        "hindi_test_dataset = create_tf_dataset(hindi_test_pairs, hindi_test_labels)"
      ],
      "metadata": {
        "id": "nAc66BdxP_kJ"
      },
      "execution_count": 21,
      "outputs": []
    },
    {
      "cell_type": "code",
      "source": [
        "hindi_test_loss, hindi_test_acc = siamese_model.evaluate(hindi_test_dataset)\n",
        "print(f\"Test Loss: {hindi_test_loss:.4f}\")\n",
        "print(f\"Test Accuracy: {hindi_test_acc:.4f}\")"
      ],
      "metadata": {
        "colab": {
          "base_uri": "https://localhost:8080/"
        },
        "id": "gyD0AzawQESP",
        "outputId": "061bdd91-d22f-49c9-bc97-198e93e5be71"
      },
      "execution_count": 22,
      "outputs": [
        {
          "output_type": "stream",
          "name": "stdout",
          "text": [
            "\u001b[1m10/10\u001b[0m \u001b[32m━━━━━━━━━━━━━━━━━━━━\u001b[0m\u001b[37m\u001b[0m \u001b[1m70s\u001b[0m 6s/step - accuracy: 0.9266 - loss: 0.6564\n",
            "Test Loss: 0.6573\n",
            "Test Accuracy: 0.9265\n"
          ]
        }
      ]
    },
    {
      "cell_type": "code",
      "source": [
        "(bengali_train_pairs, bengali_train_labels), (bengali_val_pairs, bengali_val_labels), (bengali_test_pairs, bengali_test_labels) = load_dataset(bengali_directory)"
      ],
      "metadata": {
        "id": "mIX65l5mQTaN"
      },
      "execution_count": 24,
      "outputs": []
    },
    {
      "cell_type": "code",
      "source": [
        "binghali_test_dataset = create_tf_dataset(bengali_test_pairs, bengali_test_labels)"
      ],
      "metadata": {
        "id": "BrG6XD_LQQbV"
      },
      "execution_count": 25,
      "outputs": []
    },
    {
      "cell_type": "code",
      "source": [
        "binghali_test_loss, binghali_test_acc = siamese_model.evaluate(binghali_test_dataset)\n",
        "print(f\"Test Loss: {binghali_test_loss:.4f}\")\n",
        "print(f\"Test Accuracy: {binghali_test_acc:.4f}\")"
      ],
      "metadata": {
        "colab": {
          "base_uri": "https://localhost:8080/"
        },
        "id": "jswh2OiUQUfO",
        "outputId": "e3d581f6-d101-4ffa-97b8-a381c59da642"
      },
      "execution_count": 26,
      "outputs": [
        {
          "output_type": "stream",
          "name": "stdout",
          "text": [
            "\u001b[1m6/6\u001b[0m \u001b[32m━━━━━━━━━━━━━━━━━━━━\u001b[0m\u001b[37m\u001b[0m \u001b[1m46s\u001b[0m 6s/step - accuracy: 0.9192 - loss: 0.7885\n",
            "Test Loss: 0.7881\n",
            "Test Accuracy: 0.9193\n"
          ]
        }
      ]
    }
  ],
  "metadata": {
    "accelerator": "TPU",
    "colab": {
      "gpuType": "V28",
      "provenance": []
    },
    "kaggle": {
      "accelerator": "nvidiaTeslaT4",
      "dataSources": [
        {
          "datasetId": 1384931,
          "sourceId": 2359135,
          "sourceType": "datasetVersion"
        }
      ],
      "dockerImageVersionId": 30805,
      "isGpuEnabled": true,
      "isInternetEnabled": true,
      "language": "python",
      "sourceType": "notebook"
    },
    "kernelspec": {
      "display_name": "Python 3",
      "name": "python3"
    },
    "language_info": {
      "codemirror_mode": {
        "name": "ipython",
        "version": 3
      },
      "file_extension": ".py",
      "mimetype": "text/x-python",
      "name": "python",
      "nbconvert_exporter": "python",
      "pygments_lexer": "ipython3",
      "version": "3.10.14"
    }
  },
  "nbformat": 4,
  "nbformat_minor": 0
}